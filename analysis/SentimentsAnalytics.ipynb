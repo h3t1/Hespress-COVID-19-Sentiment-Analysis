{
 "cells": [
  {
   "cell_type": "code",
   "execution_count": 4,
   "metadata": {},
   "outputs": [],
   "source": [
    "from numpy import array\n",
    "from cltk.stop.arabic.stopword_filter import stopwords_filter as ar_stop_filter\n",
    "from nltk.tokenize import word_tokenize\n",
    "from nltk.corpus import stopwords\n",
    "from nltk.stem.isri import ISRIStemmer \n",
    "from nltk import classify\n",
    "import pandas as pd\n",
    "import re\n",
    "import numpy as np\n",
    "import seaborn as sns"
   ]
  },
  {
   "cell_type": "code",
   "execution_count": 5,
   "metadata": {},
   "outputs": [],
   "source": [
    "from sklearn.metrics import accuracy_score\n",
    "from sklearn.naive_bayes import MultinomialNB\n",
    "from sklearn.naive_bayes import GaussianNB\n",
    "from sklearn.feature_extraction.text import CountVectorizer\n",
    "from sklearn import metrics\n",
    "from sklearn import svm\n",
    "from sklearn.metrics import classification_report\n",
    "from sklearn.model_selection import train_test_split\n",
    "from sklearn.metrics import classification_report, confusion_matrix"
   ]
  },
  {
   "cell_type": "code",
   "execution_count": 6,
   "metadata": {},
   "outputs": [
    {
     "data": {
      "text/plain": [
       "'شكرا'"
      ]
     },
     "execution_count": 6,
     "metadata": {},
     "output_type": "execute_result"
    }
   ],
   "source": [
    "def removeDuplicates(s):\n",
    "    if s!='':\n",
    "            a=s[0]\n",
    "            for i in s:\n",
    "                if i != a[-1]:\n",
    "                    a=a+i\n",
    "            return  a\n",
    "    else:\n",
    "        return ''\n",
    "removeDuplicates('شكرااااا')"
   ]
  },
  {
   "cell_type": "code",
   "execution_count": 7,
   "metadata": {},
   "outputs": [
    {
     "data": {
      "text/plain": [
       "1"
      ]
     },
     "execution_count": 7,
     "metadata": {},
     "output_type": "execute_result"
    }
   ],
   "source": [
    "def changePolToNum(pol):\n",
    "    if pol=='pos':\n",
    "        return 1\n",
    "    \n",
    "    else:\n",
    "        return 0\n",
    "changePolToNum('pos')"
   ]
  },
  {
   "cell_type": "markdown",
   "metadata": {},
   "source": [
    "# Preprocessing Steps"
   ]
  },
  {
   "cell_type": "markdown",
   "metadata": {},
   "source": [
    "* remove links\n",
    "* remove # character\n",
    "* remove mentions\n",
    "* remove consecutive characters from a string\n",
    "* remove Arabic stop words\n",
    "* stem words using ISRIStemmer\n",
    "* remove special characters\n",
    "* remove words length less than 2 characters\n",
    "* remove words that its start or end character is a number\n",
    "\n"
   ]
  },
  {
   "cell_type": "code",
   "execution_count": 8,
   "metadata": {},
   "outputs": [],
   "source": [
    "# Function to remove noise from tokens, removing also stopwords\n",
    "def remove_noise(comment):\n",
    "    ##remove links\n",
    "    comment=re.sub(r\"http\\S+ | www\\S+\" , \"\", str(comment))\n",
    "    \n",
    "    ##remove # chracter '#كورونا'<--'كورونا'\n",
    "    comment=re.sub(r\"#\" , \"\", comment)\n",
    "    \n",
    "    ##remove mentions (@كورونا)\n",
    "    comment=re.sub(r'@\\S+','',comment)\n",
    "    \n",
    "    #remove consecutive chracters from a string ('شكراااااا','شكرا')\n",
    "    comment = removeDuplicates(comment)\n",
    "    \n",
    "    #remove stop words()\n",
    "    #comment=removeStopWords(comment,stop_words)\n",
    "    comment=ar_stop_filter(comment)  #return list \n",
    "    comment = ' '.join([str(elem) for elem in comment]) #convert list to String\n",
    "    \n",
    "    #remove special chracters,#remove words length less than 2 chracters , first and last chracter of a word is not number\n",
    "    comment=''.join(e+' ' for e in comment.split() if e.isalnum() and len(e) >= 3 and not(e[0].isdigit() or e[-1].isdigit()))\n",
    "    \n",
    "    #stem words\n",
    "    t=''\n",
    "    for i in comment.split():\n",
    "        t+=ISRIStemmer().suf32(i)+' '\n",
    "        #t+=ISRIStemmer().stem(i)+' '\n",
    "        \n",
    "    comment=t\n",
    "    return comment\n",
    "#print(\"عندما #يريد العالم أن ‪يتكلّم@ ‬ ، فهو يتحدّث بلغة يونيكود. تسجّل الآن لحضور httpsالمؤتمر الدولي العاشر ليونيكود ( Unicode Conference )، الذي سيعقد في 10-12 آذار 1997 بمدينة مَايِنْتْس، ألمانيا. و سيجمع المؤتمر بين خبراء من كافة قطاعات الصناعة على الشبكة العالمية انترنيت ويونيكود، حيث ستتم، على الصعيدين الدولي والمحلي على حد سواء مناقشة سبل استخدام يونكود في النظم القائمة وفيما يخص التطبيقات الحاسوبية، الخطوط، تصميم النصوص والحوسبة متعددة اللغات\")\n",
    "#remove_noise(\"عندما #يريد العالم أن ‪يتكلّم@ ‬ ، فهو يتحدّث بلغة يونيكود. تسجّل الآن لحضور httpsالمؤتمر الدولي العاشر ليونيكود ( Unicode Conference )، الذي سيعقد في 10-12 آذار 1997 بمدينة مَايِنْتْس، ألمانيا. و سيجمع المؤتمر بين خبراء من كافة قطاعات الصناعة على الشبكة العالمية انترنيت ويونيكود، حيث ستتم، على الصعيدين الدولي والمحلي على حد سواء مناقشة سبل استخدام يونكود في النظم القائمة وفيما يخص التطبيقات الحاسوبية، الخطوط، تصميم النصوص والحوسبة متعددة اللغات\")"
   ]
  },
  {
   "cell_type": "markdown",
   "metadata": {},
   "source": [
    "# Analysis\n",
    "Build models for sentiment analysis using different machine learning algorithms"
   ]
  },
  {
   "cell_type": "code",
   "execution_count": 22,
   "metadata": {},
   "outputs": [
    {
     "name": "stderr",
     "output_type": "stream",
     "text": [
      "<ipython-input-22-61b64d8dd2d5>:3: SettingWithCopyWarning: \n",
      "A value is trying to be set on a copy of a slice from a DataFrame\n",
      "\n",
      "See the caveats in the documentation: https://pandas.pydata.org/pandas-docs/stable/user_guide/indexing.html#returning-a-view-versus-a-copy\n",
      "  df.vote[df.vote<0]=\"neg\"\n"
     ]
    }
   ],
   "source": [
    "# Importing Comments from Months.csv\n",
    "df= pd.read_csv('..\\\\data\\\\comments-july.csv', usecols=['vote', 'comment'], engine='python',encoding=\"utf-8\")\n",
    "df.vote[df.vote<0]=\"neg\"\n",
    "df.vote[df.vote!=\"neg\"]=\"pos\""
   ]
  },
  {
   "cell_type": "code",
   "execution_count": 23,
   "metadata": {},
   "outputs": [
    {
     "data": {
      "text/html": [
       "<div>\n",
       "<style scoped>\n",
       "    .dataframe tbody tr th:only-of-type {\n",
       "        vertical-align: middle;\n",
       "    }\n",
       "\n",
       "    .dataframe tbody tr th {\n",
       "        vertical-align: top;\n",
       "    }\n",
       "\n",
       "    .dataframe thead th {\n",
       "        text-align: right;\n",
       "    }\n",
       "</style>\n",
       "<table border=\"1\" class=\"dataframe\">\n",
       "  <thead>\n",
       "    <tr style=\"text-align: right;\">\n",
       "      <th></th>\n",
       "      <th>vote</th>\n",
       "      <th>comment</th>\n",
       "    </tr>\n",
       "  </thead>\n",
       "  <tbody>\n",
       "    <tr>\n",
       "      <th>0</th>\n",
       "      <td>pos</td>\n",
       "      <td>مستشفيات طنجة اصبحت مثل الاسطبلات حاشاكم،هناك ...</td>\n",
       "    </tr>\n",
       "    <tr>\n",
       "      <th>1</th>\n",
       "      <td>pos</td>\n",
       "      <td>تكاثفت الجهود بطنجة منذ بداية انتشار الوباء و ...</td>\n",
       "    </tr>\n",
       "    <tr>\n",
       "      <th>2</th>\n",
       "      <td>pos</td>\n",
       "      <td>طنجة مدينة موبوءة تفيض بالمصابين بالفيروس كورو...</td>\n",
       "    </tr>\n",
       "    <tr>\n",
       "      <th>3</th>\n",
       "      <td>pos</td>\n",
       "      <td>هذه التدابير المكوت في البيت 14 يوم مع بعض الح...</td>\n",
       "    </tr>\n",
       "    <tr>\n",
       "      <th>4</th>\n",
       "      <td>pos</td>\n",
       "      <td>الله يحسن عوانهم 4 شهور و الأطباء و الممرضين ف...</td>\n",
       "    </tr>\n",
       "    <tr>\n",
       "      <th>5</th>\n",
       "      <td>pos</td>\n",
       "      <td>وزير الصحة يطبق سياسة الترقيع اتفق مع الي الجه...</td>\n",
       "    </tr>\n",
       "    <tr>\n",
       "      <th>6</th>\n",
       "      <td>pos</td>\n",
       "      <td>مستشفيات طنجة اغلبها من مخلفات الاستعمار و حال...</td>\n",
       "    </tr>\n",
       "    <tr>\n",
       "      <th>7</th>\n",
       "      <td>pos</td>\n",
       "      <td>تصدر مدينة طنجة عدد الوفيات بكورونا، وارتفاع ن...</td>\n",
       "    </tr>\n",
       "    <tr>\n",
       "      <th>8</th>\n",
       "      <td>pos</td>\n",
       "      <td>شخصياً أظن أنها فكرة جيدة، حجر منزلي لمدة 14 ي...</td>\n",
       "    </tr>\n",
       "    <tr>\n",
       "      <th>9</th>\n",
       "      <td>pos</td>\n",
       "      <td>عدم وجود الرعاية الصحية للمرضى، وحالة مستشفى م...</td>\n",
       "    </tr>\n",
       "  </tbody>\n",
       "</table>\n",
       "</div>"
      ],
      "text/plain": [
       "  vote                                            comment\n",
       "0  pos  مستشفيات طنجة اصبحت مثل الاسطبلات حاشاكم،هناك ...\n",
       "1  pos  تكاثفت الجهود بطنجة منذ بداية انتشار الوباء و ...\n",
       "2  pos  طنجة مدينة موبوءة تفيض بالمصابين بالفيروس كورو...\n",
       "3  pos  هذه التدابير المكوت في البيت 14 يوم مع بعض الح...\n",
       "4  pos  الله يحسن عوانهم 4 شهور و الأطباء و الممرضين ف...\n",
       "5  pos  وزير الصحة يطبق سياسة الترقيع اتفق مع الي الجه...\n",
       "6  pos  مستشفيات طنجة اغلبها من مخلفات الاستعمار و حال...\n",
       "7  pos  تصدر مدينة طنجة عدد الوفيات بكورونا، وارتفاع ن...\n",
       "8  pos  شخصياً أظن أنها فكرة جيدة، حجر منزلي لمدة 14 ي...\n",
       "9  pos  عدم وجود الرعاية الصحية للمرضى، وحالة مستشفى م..."
      ]
     },
     "execution_count": 23,
     "metadata": {},
     "output_type": "execute_result"
    }
   ],
   "source": [
    "df.head(10)"
   ]
  },
  {
   "cell_type": "markdown",
   "metadata": {},
   "source": [
    "## CountVectorizer"
   ]
  },
  {
   "cell_type": "code",
   "execution_count": 24,
   "metadata": {},
   "outputs": [
    {
     "name": "stdout",
     "output_type": "stream",
     "text": [
      "(19351, 2)\n",
      "(15480, 136)\n",
      "(3871, 136)\n"
     ]
    }
   ],
   "source": [
    "print(df.shape)\n",
    "X = CountVectorizer(analyzer = remove_noise, dtype=\"uint8\").fit_transform(df[\"comment\"]).toarray()\n",
    "y = df[\"vote\"].apply(changePolToNum)\n",
    "X_train, X_test, y_train, y_test = train_test_split(X,y, test_size=0.2)\n",
    "y = df[\"vote\"].apply(changePolToNum)\n",
    "\n",
    "print(X_train.shape)\n",
    "print(X_test.shape)"
   ]
  },
  {
   "cell_type": "code",
   "execution_count": 25,
   "metadata": {},
   "outputs": [
    {
     "name": "stdout",
     "output_type": "stream",
     "text": [
      "GaussianNB accuracy_score  18.703177473521055\n",
      "              precision    recall  f1-score   support\n",
      "\n",
      "           0       0.16      0.98      0.28       628\n",
      "           1       0.91      0.03      0.06      3243\n",
      "\n",
      "    accuracy                           0.19      3871\n",
      "   macro avg       0.54      0.51      0.17      3871\n",
      "weighted avg       0.79      0.19      0.10      3871\n",
      "\n"
     ]
    },
    {
     "data": {
      "image/png": "[encoded data removed]",
      "text/plain": [
       "<Figure size 432x288 with 2 Axes>"
      ]
     },
     "metadata": {
      "needs_background": "light"
     },
     "output_type": "display_data"
    }
   ],
   "source": [
    "#naive bayes\n",
    "clf = GaussianNB()\n",
    "clf.fit(X_train, y_train)\n",
    "pred=clf.predict(X_test)\n",
    "print(\"GaussianNB accuracy_score \",accuracy_score(y_test, pred)*100)\n",
    "\n",
    "cm = confusion_matrix(y_test,pred)\n",
    "sns.heatmap(cm,annot=True)\n",
    "\n",
    "print(classification_report(y_test,pred))"
   ]
  },
  {
   "cell_type": "code",
   "execution_count": 26,
   "metadata": {},
   "outputs": [
    {
     "name": "stdout",
     "output_type": "stream",
     "text": [
      "MultinomialNB accuracy_score 82.87264272797727\n",
      "              precision    recall  f1-score   support\n",
      "\n",
      "           0       0.28      0.04      0.06       628\n",
      "           1       0.84      0.98      0.91      3243\n",
      "\n",
      "    accuracy                           0.83      3871\n",
      "   macro avg       0.56      0.51      0.49      3871\n",
      "weighted avg       0.75      0.83      0.77      3871\n",
      "\n"
     ]
    },
    {
     "data": {
      "image/png": "[encoded data removed]",
      "text/plain": [
       "<Figure size 432x288 with 2 Axes>"
      ]
     },
     "metadata": {
      "needs_background": "light"
     },
     "output_type": "display_data"
    }
   ],
   "source": [
    "# naive_bayes\n",
    "NB_classifier = MultinomialNB()\n",
    "NB_classifier.fit(X_train,y_train)\n",
    "y_predict_test = NB_classifier.predict(X_test)\n",
    "print(\"MultinomialNB accuracy_score\",accuracy_score(y_test, y_predict_test)*100)\n",
    "\n",
    "cm = confusion_matrix(y_test,y_predict_test)\n",
    "sns.heatmap(cm,annot=True)\n",
    "\n",
    "print(classification_report(y_test,y_predict_test))"
   ]
  },
  {
   "cell_type": "code",
   "execution_count": 29,
   "metadata": {},
   "outputs": [
    {
     "name": "stdout",
     "output_type": "stream",
     "text": [
      "SVC accuracy_score 83.7768018599845\n",
      "              precision    recall  f1-score   support\n",
      "\n",
      "           0       0.00      0.00      0.00       628\n",
      "           1       0.84      1.00      0.91      3243\n",
      "\n",
      "    accuracy                           0.84      3871\n",
      "   macro avg       0.42      0.50      0.46      3871\n",
      "weighted avg       0.70      0.84      0.76      3871\n",
      "\n"
     ]
    },
    {
     "name": "stderr",
     "output_type": "stream",
     "text": [
      "c:\\users\\pc\\appdata\\local\\programs\\python\\python38\\lib\\site-packages\\sklearn\\metrics\\_classification.py:1221: UndefinedMetricWarning: Precision and F-score are ill-defined and being set to 0.0 in labels with no predicted samples. Use `zero_division` parameter to control this behavior.\n",
      "  _warn_prf(average, modifier, msg_start, len(result))\n"
     ]
    },
    {
     "data": {
      "image/png": "[encoded data removed]",
      "text/plain": [
       "<Figure size 432x288 with 2 Axes>"
      ]
     },
     "metadata": {
      "needs_background": "light"
     },
     "output_type": "display_data"
    }
   ],
   "source": [
    "#SVC\n",
    "clf = svm.SVC()\n",
    "clf.fit(X_train, y_train)\n",
    "pred=clf.predict(X_test)\n",
    "print(\"SVC accuracy_score\",accuracy_score(y_test, pred)*100)\n",
    "\n",
    "cm = confusion_matrix(y_test,pred)\n",
    "sns.heatmap(cm,annot=True)\n",
    "\n",
    "print(classification_report(y_test,pred))"
   ]
  },
  {
   "cell_type": "code",
   "execution_count": 28,
   "metadata": {},
   "outputs": [
    {
     "name": "stdout",
     "output_type": "stream",
     "text": [
      "kernel SVC accuracy_score 83.7251356238698\n",
      "              precision    recall  f1-score   support\n",
      "\n",
      "           0       0.00      0.00      0.00       628\n",
      "           1       0.84      1.00      0.91      3243\n",
      "\n",
      "    accuracy                           0.84      3871\n",
      "   macro avg       0.42      0.50      0.46      3871\n",
      "weighted avg       0.70      0.84      0.76      3871\n",
      "\n"
     ]
    },
    {
     "data": {
      "image/png": "[encoded data removed]",
      "text/plain": [
       "<Figure size 432x288 with 2 Axes>"
      ]
     },
     "metadata": {
      "needs_background": "light"
     },
     "output_type": "display_data"
    }
   ],
   "source": [
    "#kernel svc\n",
    "clf = svm.SVC(kernel='linear')\n",
    "clf.fit(X_train, y_train)\n",
    "pred=clf.predict(X_test)\n",
    "print(\"kernel SVC accuracy_score\",accuracy_score(y_test, pred)*100)\n",
    "\n",
    "cm = confusion_matrix(y_test,pred)\n",
    "sns.heatmap(cm,annot=True)\n",
    "\n",
    "print(classification_report(y_test,pred))"
   ]
  },
  {
   "cell_type": "code",
   "execution_count": 27,
   "metadata": {},
   "outputs": [
    {
     "name": "stderr",
     "output_type": "stream",
     "text": [
      "c:\\users\\pc\\appdata\\local\\programs\\python\\python38\\lib\\site-packages\\sklearn\\linear_model\\_logistic.py:762: ConvergenceWarning: lbfgs failed to converge (status=1):\n",
      "STOP: TOTAL NO. of ITERATIONS REACHED LIMIT.\n",
      "\n",
      "Increase the number of iterations (max_iter) or scale the data as shown in:\n",
      "    https://scikit-learn.org/stable/modules/preprocessing.html\n",
      "Please also refer to the documentation for alternative solver options:\n",
      "    https://scikit-learn.org/stable/modules/linear_model.html#logistic-regression\n",
      "  n_iter_i = _check_optimize_result(\n",
      "c:\\users\\pc\\appdata\\local\\programs\\python\\python38\\lib\\site-packages\\sklearn\\metrics\\_classification.py:1221: UndefinedMetricWarning: Precision and F-score are ill-defined and being set to 0.0 in labels with no predicted samples. Use `zero_division` parameter to control this behavior.\n",
      "  _warn_prf(average, modifier, msg_start, len(result))\n"
     ]
    },
    {
     "name": "stdout",
     "output_type": "stream",
     "text": [
      "LogisticRegression accuracy_score 83.7768018599845\n",
      "              precision    recall  f1-score   support\n",
      "\n",
      "           0       0.00      0.00      0.00       628\n",
      "           1       0.84      1.00      0.91      3243\n",
      "\n",
      "    accuracy                           0.84      3871\n",
      "   macro avg       0.42      0.50      0.46      3871\n",
      "weighted avg       0.70      0.84      0.76      3871\n",
      "\n"
     ]
    },
    {
     "data": {
      "image/png": "[encoded data removed]",
      "text/plain": [
       "<Figure size 432x288 with 2 Axes>"
      ]
     },
     "metadata": {
      "needs_background": "light"
     },
     "output_type": "display_data"
    }
   ],
   "source": [
    "from sklearn.linear_model import LogisticRegression\n",
    "logisticRegr = LogisticRegression()\n",
    "logisticRegr.fit(X_train, y_train)\n",
    "pred=logisticRegr.predict(X_test)\n",
    "print(\"LogisticRegression accuracy_score\",accuracy_score(y_test, pred)*100)\n",
    "\n",
    "cm = confusion_matrix(y_test,pred)\n",
    "sns.heatmap(cm,annot=True)\n",
    "\n",
    "print(classification_report(y_test,pred))"
   ]
  },
  {
   "cell_type": "markdown",
   "metadata": {},
   "source": [
    "# Imbalanced data\n",
    "It is the problem in machine learning where the total number of a class of data (negative) is far less than the total number of another class of data (positive). This problem is extremely common in practice.\n",
    "\n",
    "Keras with Scikit Learn"
   ]
  }
 ],
 "metadata": {
  "kernelspec": {
   "display_name": "Python 3",
   "language": "python",
   "name": "python3"
  },
  "language_info": {
   "codemirror_mode": {
    "name": "ipython",
    "version": 3
   },
   "file_extension": ".py",
   "mimetype": "text/x-python",
   "name": "python",
   "nbconvert_exporter": "python",
   "pygments_lexer": "ipython3",
   "version": "3.8.4"
  }
 },
 "nbformat": 4,
 "nbformat_minor": 4
}
